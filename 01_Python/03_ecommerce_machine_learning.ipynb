{
 "cells": [
  {
   "cell_type": "markdown",
   "metadata": {},
   "source": [
    "# E-COMMERCE\n",
    "## `Machine Learning`"
   ]
  },
  {
   "cell_type": "markdown",
   "metadata": {},
   "source": [
    "### 📦 LIBRAIRIES\n",
    "---"
   ]
  },
  {
   "cell_type": "code",
   "execution_count": 2,
   "metadata": {},
   "outputs": [],
   "source": [
    "# --- OPERATING SYSTEM ---------------------------------------------------------\n",
    "import os\n",
    "\n",
    "\n",
    "# --- DATA --------------------------------------------------------------------\n",
    "# --- Pandas\n",
    "import pandas as pd\n",
    "pd.set_option(\"display.max_rows\", 100)\n",
    "pd.set_option(\"display.max_columns\", 500)\n",
    "\n",
    "# --- Numpy\n",
    "import numpy as np\n",
    "\n",
    "\n",
    "\n",
    "# --- PLOTS -------------------------------------------------------------------\n",
    "# --- Matplotlib\n",
    "import matplotlib.pyplot as plt\n",
    "\n",
    "# --- Seaborn\n",
    "import seaborn as sns\n",
    "sns.set_theme(style=\"white\")\n",
    "\n",
    "# --- Plotly\n",
    "import plotly.express as px\n",
    "import plotly.graph_objects as go\n",
    "import plotly.io as pio\n",
    "pio.renderers.default = \"vscode\"\n",
    "from plotly.subplots import make_subplots\n",
    "\n",
    "\n",
    "\n",
    "# --- MACHINE LEARNING --------------------------------------------------------\n",
    "# # --- Dataset Splitting\n",
    "from sklearn.model_selection import train_test_split\n",
    "\n",
    "# # --- Missing Values Replacing\n",
    "from sklearn.impute import SimpleImputer\n",
    "\n",
    "# # --- Dataset Splitting\n",
    "from sklearn.compose import ColumnTransformer\n",
    "from sklearn.preprocessing import StandardScaler, OneHotEncoder, LabelEncoder\n",
    "\n",
    "# # --- Label Encoding\n",
    "from sklearn import preprocessing \n",
    "from category_encoders import CatBoostEncoder\n",
    "\n",
    "\n",
    "\n",
    "# --- MODELS ------------------------------------------------------------------\n",
    "# # --- Regression\n",
    "from sklearn.linear_model import LinearRegression\n",
    "\n",
    "# # --- Classification\n",
    "from sklearn.linear_model import LogisticRegression\n",
    "from sklearn.tree import DecisionTreeClassifier\n",
    "from sklearn.ensemble import RandomForestClassifier\n",
    "import xgboost as xgb\n",
    "import lightgbm as lgbm\n",
    "\n",
    "from sklearn.pipeline import Pipeline\n",
    "\n",
    "\n",
    "\n",
    "# --- MATRIX ------------------------------------------------------------------\n",
    "# # --- Matrix\n",
    "from sklearn.metrics import confusion_matrix\n",
    "\n",
    "# # --- Scoring\n",
    "from sklearn.metrics import classification_report\n",
    "from sklearn.metrics import f1_score\n",
    "from sklearn.metrics import accuracy_score\n",
    "from sklearn.metrics import precision_score\n",
    "from sklearn.metrics import recall_score\n",
    "\n",
    "# # --- Tree\n",
    "from sklearn import tree"
   ]
  },
  {
   "cell_type": "markdown",
   "metadata": {},
   "source": [
    "### 📥 IMPORT\n",
    "---"
   ]
  },
  {
   "cell_type": "code",
   "execution_count": 3,
   "metadata": {},
   "outputs": [],
   "source": [
    "encoding_norm = \"UTF-8\"\n",
    "separator = \",\"\n",
    "\n",
    "cols_dates_to_parse_1 = ['order_created_at', 'order_shipped_at', 'order_delivered_at', 'order_returned_at']\n",
    "cols_dates_to_parse_2 = ['event_created_at']\n",
    "\n",
    "file_name_1= \"../02_Data_output/Orders.csv\"\n",
    "file_name_2= \"../02_Data_output/Clients.csv\"\n",
    "\n",
    "imp1 = pd.read_csv(file_name_1, sep= separator, low_memory= False, encoding= encoding_norm, parse_dates= cols_dates_to_parse_1)\n",
    "imp2 = pd.read_csv(file_name_2, sep= separator, low_memory= False, encoding= encoding_norm, parse_dates= cols_dates_to_parse_2)"
   ]
  },
  {
   "cell_type": "code",
   "execution_count": 4,
   "metadata": {},
   "outputs": [],
   "source": [
    "df1 = imp1.copy()\n",
    "df2 = imp2.copy()"
   ]
  },
  {
   "cell_type": "markdown",
   "metadata": {},
   "source": [
    "### 💻 PREPARATION\n",
    "---"
   ]
  },
  {
   "cell_type": "markdown",
   "metadata": {},
   "source": [
    "#### ◻ Merge"
   ]
  },
  {
   "cell_type": "code",
   "execution_count": 5,
   "metadata": {},
   "outputs": [],
   "source": [
    "cols = df2.columns.difference(df1.columns).to_list()\n",
    "cols.append('user_id')\n",
    "\n",
    "df = df1.merge(df2[cols],\n",
    "               how= 'left',\n",
    "               on= ['user_id']\n",
    "              )"
   ]
  },
  {
   "cell_type": "code",
   "execution_count": 6,
   "metadata": {},
   "outputs": [],
   "source": [
    "# encoding_norm = \"UTF-8\"\n",
    "# separator = \",\"\n",
    "# df_to_export = df.head(100000)\n",
    "# df_to_export.to_csv(r'..\\02_Data_output\\ecommerce.csv', sep= separator, encoding= encoding_norm, index = None, header= True)"
   ]
  },
  {
   "cell_type": "markdown",
   "metadata": {},
   "source": [
    "#### ◻ Columns Adding"
   ]
  },
  {
   "cell_type": "code",
   "execution_count": 7,
   "metadata": {},
   "outputs": [],
   "source": [
    "# --- Order Dates\n",
    "df['order_created_at'] = pd.to_datetime(df['order_created_at']).dt.tz_localize(None)\n",
    "df['order_year'] = df['order_created_at'].dt.year\n",
    "df['order_month'] = df['order_created_at'].dt.month\n",
    "\n",
    "# --- User_Gender Encoding\n",
    "df['churn'] = df['order_status'].apply(lambda x: 1 if (x == 'Returned') | (x == 'Cancelled') else 0)"
   ]
  },
  {
   "cell_type": "markdown",
   "metadata": {},
   "source": [
    "### 💻 MACHINE LEARNING\n",
    "---"
   ]
  },
  {
   "cell_type": "markdown",
   "metadata": {},
   "source": [
    "#### ◻ Features List"
   ]
  },
  {
   "cell_type": "code",
   "execution_count": 8,
   "metadata": {},
   "outputs": [],
   "source": [
    "cat_features = ['distribution_center_name',\n",
    "                'event_browser',\n",
    "                'event_traffic_source'\n",
    "                ]\n",
    "\n",
    "num_features = ['order_sale_price',\n",
    "                'order_preparation_time',\n",
    "                'order_delivery_time',\n",
    "                'product_cost',\n",
    "                'user_age',\n",
    "                'order_year',\n",
    "                'order_month'\n",
    "                ]\n",
    "\n",
    "features_list = cat_features + num_features\n",
    "\n",
    "df = df.dropna(subset= features_list + ['churn'])"
   ]
  },
  {
   "cell_type": "markdown",
   "metadata": {},
   "source": [
    "#### ◻ Dataset Splitting"
   ]
  },
  {
   "cell_type": "code",
   "execution_count": 9,
   "metadata": {},
   "outputs": [
    {
     "name": "stdout",
     "output_type": "stream",
     "text": [
      "X_train shape: (2829593, 10)\n",
      "X_test shape: (707399, 10)\n",
      "y_train shape: (2829593,)\n",
      "y_test shape: (707399,)\n"
     ]
    }
   ],
   "source": [
    "# --- Features to analyse\n",
    "features = features_list\n",
    "X = df.loc[:, features]\n",
    "\n",
    "# --- Target\n",
    "y = df['churn']\n",
    "\n",
    "# --- Dataframe splitting : Train & Test\n",
    "X_train, X_test, y_train, y_test = train_test_split(X, y, test_size= 0.2, random_state= 42)\n",
    "\n",
    "# --- Display\n",
    "print(f\"X_train shape: {X_train.shape}\")\n",
    "print(f\"X_test shape: {X_test.shape}\")\n",
    "print(f\"y_train shape: {y_train.shape}\")\n",
    "print(f\"y_test shape: {y_test.shape}\")"
   ]
  },
  {
   "cell_type": "markdown",
   "metadata": {},
   "source": [
    "#### ◻ Imputing Missing Values"
   ]
  },
  {
   "cell_type": "markdown",
   "metadata": {},
   "source": [
    "##### 🔹 [Checking]"
   ]
  },
  {
   "cell_type": "code",
   "execution_count": 10,
   "metadata": {},
   "outputs": [
    {
     "data": {
      "text/plain": [
       "distribution_center_name    False\n",
       "event_browser               False\n",
       "event_traffic_source        False\n",
       "order_sale_price            False\n",
       "order_preparation_time      False\n",
       "order_delivery_time         False\n",
       "product_cost                False\n",
       "user_age                    False\n",
       "order_year                  False\n",
       "order_month                 False\n",
       "dtype: bool"
      ]
     },
     "execution_count": 10,
     "metadata": {},
     "output_type": "execute_result"
    }
   ],
   "source": [
    "# --- Check before\n",
    "X_train.isnull().any()"
   ]
  },
  {
   "cell_type": "markdown",
   "metadata": {},
   "source": [
    "##### 🔹 [Filling]"
   ]
  },
  {
   "cell_type": "code",
   "execution_count": 11,
   "metadata": {},
   "outputs": [],
   "source": [
    "# # --- Filling the missing values\n",
    "\n",
    "## --- Numerical values\n",
    "# numerical_cols_to_fill= ['']\n",
    "\n",
    "# si_numerical = SimpleImputer(strategy = 'mean')\n",
    "# X_train[numerical_cols_to_fill] = si_numerical.fit_transform(X_train[numerical_cols_to_fill])\n",
    "# X_test[numerical_cols_to_fill] = si_numerical.transform(X_test[numerical_cols_to_fill])\n",
    "\n",
    "# ## --- Categorical values\n",
    "# categorical_cols_to_fill= ['']\n",
    "\n",
    "# si_categorical = SimpleImputer(strategy = 'constant', fill_value = 'Unknown')\n",
    "# X_train[categorical_cols_to_fill] = si_categorical.fit_transform(X_train[categorical_cols_to_fill])\n",
    "# X_test[categorical_cols_to_fill] = si_categorical.transform(X_test[categorical_cols_to_fill])\n",
    "\n",
    "# # --- Check after\n",
    "# X_train.isnull().any()"
   ]
  },
  {
   "cell_type": "markdown",
   "metadata": {},
   "source": [
    "#### ◻ Dataset Normalization"
   ]
  },
  {
   "cell_type": "code",
   "execution_count": 12,
   "metadata": {},
   "outputs": [
    {
     "data": {
      "text/plain": [
       "array([[ 0.        ,  1.        ,  0.        , ...,  0.7527471 ,\n",
       "         0.68596546,  1.37955051],\n",
       "       [ 0.        ,  0.        ,  0.        , ..., -1.07016247,\n",
       "         0.68596546, -0.55579994],\n",
       "       [ 0.        ,  0.        ,  0.        , ..., -0.12930592,\n",
       "        -0.20757252, -0.83227857],\n",
       "       ...,\n",
       "       [ 1.        ,  0.        ,  0.        , ..., -1.59939427,\n",
       "        -1.1011105 ,  1.37955051],\n",
       "       [ 0.        ,  0.        ,  0.        , ...,  1.57599658,\n",
       "        -1.1011105 , -0.00284267],\n",
       "       [ 0.        ,  0.        ,  0.        , ..., -1.36418014,\n",
       "         0.68596546, -0.55579994]])"
      ]
     },
     "execution_count": 12,
     "metadata": {},
     "output_type": "execute_result"
    }
   ],
   "source": [
    "# --- Categorical Features\n",
    "categorical_features = cat_features\n",
    "categorical_transformer = OneHotEncoder(drop=\"first\")\n",
    "\n",
    "# --- Numerical Features\n",
    "numerical_features = num_features\n",
    "numerical_transformer = StandardScaler()\n",
    "\n",
    "\n",
    "# --- Features Transformation\n",
    "FeatureEncoder = ColumnTransformer(transformers = [\n",
    "                                                    ('cat', categorical_transformer, categorical_features),\n",
    "                                                    ('num', numerical_transformer, numerical_features)\n",
    "                                                  ])\n",
    "\n",
    "# --- X transformation\n",
    "X_train = FeatureEncoder.fit_transform(X_train)\n",
    "X_test = FeatureEncoder.transform(X_test)\n",
    "\n",
    "# Y à transformer si non numérique\n",
    "# Y_train = LabelEncoder.fit_transform(Y_train)\n",
    "# Y_test = LabelEncoder.transform(Y_test)\n",
    "\n",
    "\n",
    "# --- Display\n",
    "X_train"
   ]
  },
  {
   "cell_type": "markdown",
   "metadata": {},
   "source": [
    "#### ◻ Model Training"
   ]
  },
  {
   "cell_type": "code",
   "execution_count": 13,
   "metadata": {},
   "outputs": [],
   "source": [
    "# --- Model training\n",
    "\n",
    "# model = LogisticRegression(random_state= 42, max_iter= 400)\n",
    "# model = LogisticRegression(random_state= 42, max_iter= 200, solver= 'saga', penalty= 'l1')\n",
    "# model = RandomForestClassifier(random_state= 42, n_estimators= 100,  max_depth= 3)\n",
    "model = DecisionTreeClassifier(max_depth= 30)\n",
    "\n",
    "model.fit(X_train, y_train)\n",
    "y_pred = model.predict(X_test)"
   ]
  },
  {
   "cell_type": "markdown",
   "metadata": {},
   "source": [
    "#### ◻ Scoring"
   ]
  },
  {
   "cell_type": "code",
   "execution_count": 14,
   "metadata": {},
   "outputs": [
    {
     "name": "stdout",
     "output_type": "stream",
     "text": [
      "Model Scoring\n",
      "Train Score : 0.9215\n",
      "Test Score :  0.9208\n",
      "\n",
      "              precision    recall  f1-score   support\n",
      "\n",
      "           0       0.91      0.98      0.95    505437\n",
      "           1       0.94      0.77      0.85    201962\n",
      "\n",
      "    accuracy                           0.92    707399\n",
      "   macro avg       0.93      0.88      0.90    707399\n",
      "weighted avg       0.92      0.92      0.92    707399\n",
      "\n"
     ]
    }
   ],
   "source": [
    "# --- Model\n",
    "print('Model Scoring')\n",
    "print(f'Train Score : {model.score(X_train, y_train):.4f}')\n",
    "print(f'Test Score :  {model.score(X_test, y_test):.4f}')\n",
    "\n",
    "\n",
    "# --- Classification Report\n",
    "print(\"\")\n",
    "print(classification_report(y_test, y_pred))"
   ]
  },
  {
   "cell_type": "code",
   "execution_count": 83,
   "metadata": {},
   "outputs": [
    {
     "data": {
      "image/png": "[encoded data removed]",
      "text/plain": [
       "<Figure size 600x200 with 1 Axes>"
      ]
     },
     "metadata": {},
     "output_type": "display_data"
    }
   ],
   "source": [
    "# --- Data\n",
    "multi = 100\n",
    "comanum = 3\n",
    "\n",
    "scoring_data = pd.DataFrame(dict({\n",
    "    \"Score\" : ['Accuracy', 'F1 Score', 'Precision', 'Recall' ],\n",
    "    \"Test\" : [np.round(accuracy_score(y_test, y_pred) * multi, comanum),\n",
    "              np.round(f1_score(y_test, y_pred) * multi, comanum),\n",
    "              np.round(precision_score(y_test, y_pred) * multi, comanum),\n",
    "              np.round(recall_score(y_test, y_pred) * multi, comanum)]\n",
    "}))\n",
    "\n",
    "\n",
    "color = ['#658bbf']\n",
    "color = ['White']\n",
    "edgecolor = 'Black'\n",
    "edgecolor = 'White'\n",
    "\n",
    "# --- Chart Plotting\n",
    "plt.figure(figsize=(6, 2))\n",
    "\n",
    "# Tracer le graphique en barres\n",
    "ax = sns.barplot(x= \"Score\",\n",
    "                 y= \"Test\",\n",
    "                 data= scoring_data,\n",
    "                 color= color[0],\n",
    "                 edgecolor= edgecolor\n",
    "                )\n",
    "\n",
    "\n",
    "# --- Chart Aesthetics\n",
    "sns.despine()\n",
    "\n",
    "# ax.spines['bottom'].set_color(None)\n",
    "# ax.get_xaxis().set_visible(False)\n",
    "# ax.xaxis.set_ticks([])\n",
    "\n",
    "ax.spines['left'].set_color(None)\n",
    "ax.get_yaxis().set_visible(False)\n",
    "ax.yaxis.set_ticks([])\n",
    "\n",
    "ax.spines['left'].set_color('#29333b')\n",
    "ax.spines['bottom'].set_color('white')\n",
    "ax.set_facecolor('#29333b') \n",
    "plt.gcf().set_facecolor('#29333b')\n",
    "\n",
    "ax.tick_params(axis='x', labelsize= 14)\n",
    "\n",
    "for label in ax.get_xticklabels():\n",
    "    label.set_color('white')\n",
    "\n",
    "# --- Chart Labels\n",
    "plt.xlabel(None)\n",
    "plt.ylabel(None)\n",
    "# plt.title('Model results analysis', fontsize= 16, pad= 20)\n",
    "\n",
    "\n",
    "# --- Bars Labels\n",
    "space= 15\n",
    "for i, v in enumerate(scoring_data['Test']):\n",
    "    plt.text(i, v - space,  f\"{v :,.0f} %\", ha= 'center', color= 'black', fontsize= 14)\n",
    "\n",
    "\n",
    "# --- Display\n",
    "plt.show()"
   ]
  },
  {
   "cell_type": "markdown",
   "metadata": {},
   "source": [
    "#### ◻ Confusion Matrix"
   ]
  },
  {
   "cell_type": "code",
   "execution_count": 89,
   "metadata": {},
   "outputs": [
    {
     "data": {
      "image/png": "[encoded data removed]",
      "text/plain": [
       "<Figure size 900x700 with 1 Axes>"
      ]
     },
     "metadata": {},
     "output_type": "display_data"
    }
   ],
   "source": [
    "# --- Confusion Matrix\n",
    "matrix = confusion_matrix(y_test, y_pred)\n",
    "\n",
    "\n",
    "# --- Matrix Plotting\n",
    "plt.figure(figsize= (9, 7))\n",
    "\n",
    "ax = sns.heatmap(matrix,\n",
    "                 annot= True,\n",
    "                 fmt= 'd',\n",
    "                 cmap= 'Blues',\n",
    "                 xticklabels= ['Autres statuts', 'Annulations et Retours'],\n",
    "                 yticklabels= ['Autres statuts', 'Annulations et Retours'],\n",
    "                #  xticklabels= model.classes_,\n",
    "                #  yticklabels= model.classes_\n",
    "                linecolor= 'black',\n",
    "                linewidths= 0.5,\n",
    "                cbar= False\n",
    "                )\n",
    "\n",
    "\n",
    "# --- Matrix Aesthetics\n",
    "import matplotlib.patches as patches\n",
    "ax.add_patch(patches.Rectangle((0, 0), matrix.shape[1], matrix.shape[0], fill=False, edgecolor='black', linewidth=2))\n",
    "\n",
    "\n",
    "# --- Matrix Labels\n",
    "plt.xlabel('Prédiction', fontsize= 14, labelpad= 20)\n",
    "plt.ylabel('Réalité', fontsize= 14, labelpad= 20)\n",
    "plt.title('Matrice de Confusion', fontsize= 16, pad= 20)\n",
    "\n",
    "\n",
    "# --- Display\n",
    "plt.show()"
   ]
  },
  {
   "cell_type": "markdown",
   "metadata": {},
   "source": [
    "#### ◻ Feature Importances"
   ]
  },
  {
   "cell_type": "code",
   "execution_count": 26,
   "metadata": {},
   "outputs": [
    {
     "data": {
      "text/plain": [
       "array(['cat__distribution_center_name_Chicago IL',\n",
       "       'cat__distribution_center_name_Houston TX',\n",
       "       'cat__distribution_center_name_Los Angeles CA',\n",
       "       'cat__distribution_center_name_Memphis TN',\n",
       "       'cat__distribution_center_name_Mobile AL',\n",
       "       'cat__distribution_center_name_New Orleans LA',\n",
       "       'cat__distribution_center_name_New York NY',\n",
       "       'cat__distribution_center_name_Philadelphia PA',\n",
       "       'cat__distribution_center_name_Savannah GA',\n",
       "       'cat__event_browser_Firefox', 'cat__event_browser_IE',\n",
       "       'cat__event_browser_Other', 'cat__event_browser_Safari',\n",
       "       'cat__event_traffic_source_Email',\n",
       "       'cat__event_traffic_source_Facebook',\n",
       "       'cat__event_traffic_source_Organic',\n",
       "       'cat__event_traffic_source_YouTube', 'num__order_sale_price',\n",
       "       'num__order_preparation_time', 'num__order_delivery_time',\n",
       "       'num__product_cost', 'num__user_age', 'num__order_year',\n",
       "       'num__order_month'], dtype=object)"
      ]
     },
     "execution_count": 26,
     "metadata": {},
     "output_type": "execute_result"
    }
   ],
   "source": [
    "FeatureEncoder.get_feature_names_out()"
   ]
  },
  {
   "cell_type": "code",
   "execution_count": 54,
   "metadata": {},
   "outputs": [],
   "source": [
    "index_names = ['Distr. Center : Chicago, IL',\n",
    "               'Distr. Center : Houston, TX',\n",
    "               'Distr. Center : Los Angeles, CA',\n",
    "               'Distr. Center : Memphis, TN',\n",
    "               'Distr. Center : Mobile, AL',\n",
    "               'Distr. Center : New Orleans, LA',\n",
    "               'Distr. Center : New York, NY',\n",
    "               'Distr. Center : Philadelphia, PA',\n",
    "               'Distr. Center : Savannah, GA',\n",
    "               'Browser : Firefox',\n",
    "               'Browser : IE',\n",
    "               'Browser : Other',\n",
    "               'Browser : Safari',\n",
    "               'Traffic Source : Email',\n",
    "               'Traffic Source : Facebook',\n",
    "               'Traffic Source : Organic',\n",
    "               'Traffic Source : YouTube',\n",
    "               'Order Sale Price',\n",
    "               'Order Preparation Time',\n",
    "               'Order Delivery Time',\n",
    "               'Product Cost',\n",
    "               'User Age',\n",
    "               'Order Year',\n",
    "               'Order Month'\n",
    "              ]"
   ]
  },
  {
   "cell_type": "code",
   "execution_count": 104,
   "metadata": {},
   "outputs": [
    {
     "data": {
      "image/png": "[encoded data removed]",
      "text/plain": [
       "<Figure size 700x800 with 1 Axes>"
      ]
     },
     "metadata": {},
     "output_type": "display_data"
    }
   ],
   "source": [
    "# --- Feature Importances\n",
    "data = pd.DataFrame(model.feature_importances_,\n",
    "                    # index= FeatureEncoder.get_feature_names_out(),\n",
    "                    index= index_names,\n",
    "                    columns= ['importance']).sort_values('importance', ascending=False)\n",
    "\n",
    "data = data.head(10)\n",
    "\n",
    "# --- Bars Aesthetics\n",
    "palette = ['#a45959',\n",
    "           '#a45959',\n",
    "           '#58ae65',\n",
    "           '#6ba9c8',\n",
    "           '#58ae65',\n",
    "           '#efc849',\n",
    "           '#efc849',\n",
    "           '#9367b3',\n",
    "           '#9367b3',\n",
    "           '#9367b3'\n",
    "          ]\n",
    "edgecolor = 'black'\n",
    "\n",
    "\n",
    "# --- Chart Plotting\n",
    "plt.figure(figsize=(7, 8))\n",
    "\n",
    "ax = sns.barplot(x= data.importance,\n",
    "                 y= data.index,\n",
    "                 palette= palette,\n",
    "                 hue= data.index,\n",
    "                #  color = color[0],\n",
    "                 edgecolor= edgecolor,\n",
    "                 legend= False\n",
    "                )\n",
    "\n",
    "\n",
    "# --- Chart Aesthetics\n",
    "sns.despine()\n",
    "\n",
    "ax.spines['bottom'].set_color(None)\n",
    "ax.get_xaxis().set_visible(False)\n",
    "ax.xaxis.set_ticks([])\n",
    "\n",
    "# ax.spines['left'].set_color(None)\n",
    "# ax.get_yaxis().set_visible(False)\n",
    "# ax.yaxis.set_ticks([])\n",
    "\n",
    "\n",
    "# --- Chart Labels\n",
    "plt.xlabel(None)\n",
    "plt.ylabel(None)\n",
    "plt.title('Feature Importances', fontsize= 16, pad= 20)\n",
    "\n",
    "\n",
    "# --- Bars Labels\n",
    "space= 0.01\n",
    "for i, v in enumerate(data['importance']):\n",
    "    plt.text(v + space, i,  f\"{v * 100:,.2f} %\", va= 'center')\n",
    "\n",
    "\n",
    "# --- Display\n",
    "plt.show()"
   ]
  },
  {
   "cell_type": "code",
   "execution_count": 60,
   "metadata": {},
   "outputs": [
    {
     "name": "stdout",
     "output_type": "stream",
     "text": [
      "Le modèle a 24 feature importances\n"
     ]
    }
   ],
   "source": [
    "print(f'Le modèle a {len(model.feature_importances_)} feature importances')"
   ]
  }
 ],
 "metadata": {
  "kernelspec": {
   "display_name": "dataenv",
   "language": "python",
   "name": "python3"
  },
  "language_info": {
   "codemirror_mode": {
    "name": "ipython",
    "version": 3
   },
   "file_extension": ".py",
   "mimetype": "text/x-python",
   "name": "python",
   "nbconvert_exporter": "python",
   "pygments_lexer": "ipython3",
   "version": "3.11.9"
  }
 },
 "nbformat": 4,
 "nbformat_minor": 2
}
